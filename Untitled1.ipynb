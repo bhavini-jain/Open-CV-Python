{
 "cells": [
  {
   "cell_type": "code",
   "execution_count": 1,
   "metadata": {},
   "outputs": [
    {
     "ename": "SyntaxError",
     "evalue": "invalid syntax (<ipython-input-1-8a2f9f9b6005>, line 1)",
     "output_type": "error",
     "traceback": [
      "\u001b[1;36m  File \u001b[1;32m\"<ipython-input-1-8a2f9f9b6005>\"\u001b[1;36m, line \u001b[1;32m1\u001b[0m\n\u001b[1;33m    pip install ipykernel\u001b[0m\n\u001b[1;37m              ^\u001b[0m\n\u001b[1;31mSyntaxError\u001b[0m\u001b[1;31m:\u001b[0m invalid syntax\n"
     ]
    }
   ],
   "source": [
    "pip install ipykernel\n",
    "python -m ipykernel install"
   ]
  },
  {
   "cell_type": "code",
   "execution_count": 2,
   "metadata": {},
   "outputs": [
    {
     "name": "stdout",
     "output_type": "stream",
     "text": [
      "Collecting jupyter\n",
      "  Downloading jupyter-1.0.0-py2.py3-none-any.whl (2.7 kB)\n",
      "Collecting nbconvert\n",
      "  Downloading nbconvert-6.0.7-py3-none-any.whl (552 kB)\n",
      "Collecting ipywidgets\n",
      "  Downloading ipywidgets-7.6.3-py2.py3-none-any.whl (121 kB)\n",
      "Collecting jupyter-console\n",
      "  Downloading jupyter_console-6.4.0-py3-none-any.whl (22 kB)\n",
      "Collecting qtconsole\n",
      "  Downloading qtconsole-5.1.0-py3-none-any.whl (119 kB)\n",
      "Collecting notebook\n",
      "  Downloading notebook-6.3.0-py3-none-any.whl (9.5 MB)\n",
      "Note: you may need to restart the kernel to use updated packages.\n"
     ]
    },
    {
     "name": "stderr",
     "output_type": "stream",
     "text": [
      "ERROR: Exception:\n",
      "Traceback (most recent call last):\n",
      "  File \"C:\\Anaconda\\lib\\site-packages\\pip\\_vendor\\urllib3\\response.py\", line 425, in _error_catcher\n",
      "    yield\n",
      "  File \"C:\\Anaconda\\lib\\site-packages\\pip\\_vendor\\urllib3\\response.py\", line 507, in read\n",
      "    data = self._fp.read(amt) if not fp_closed else b\"\"\n",
      "  File \"C:\\Anaconda\\lib\\site-packages\\pip\\_vendor\\cachecontrol\\filewrapper.py\", line 62, in read\n",
      "    data = self.__fp.read(amt)\n",
      "  File \"C:\\Anaconda\\lib\\http\\client.py\", line 457, in read\n",
      "    n = self.readinto(b)\n",
      "  File \"C:\\Anaconda\\lib\\http\\client.py\", line 501, in readinto\n",
      "    n = self.fp.readinto(b)\n",
      "  File \"C:\\Anaconda\\lib\\socket.py\", line 589, in readinto\n",
      "    return self._sock.recv_into(b)\n",
      "  File \"C:\\Anaconda\\lib\\ssl.py\", line 1071, in recv_into\n",
      "    return self.read(nbytes, buffer)\n",
      "  File \"C:\\Anaconda\\lib\\ssl.py\", line 929, in read\n",
      "    return self._sslobj.read(len, buffer)\n",
      "socket.timeout: The read operation timed out\n",
      "\n",
      "During handling of the above exception, another exception occurred:\n",
      "\n",
      "Traceback (most recent call last):\n",
      "  File \"C:\\Anaconda\\lib\\site-packages\\pip\\_internal\\cli\\base_command.py\", line 186, in _main\n",
      "    status = self.run(options, args)\n",
      "  File \"C:\\Anaconda\\lib\\site-packages\\pip\\_internal\\commands\\install.py\", line 331, in run\n",
      "    resolver.resolve(requirement_set)\n",
      "  File \"C:\\Anaconda\\lib\\site-packages\\pip\\_internal\\legacy_resolve.py\", line 177, in resolve\n",
      "    discovered_reqs.extend(self._resolve_one(requirement_set, req))\n",
      "  File \"C:\\Anaconda\\lib\\site-packages\\pip\\_internal\\legacy_resolve.py\", line 333, in _resolve_one\n",
      "    abstract_dist = self._get_abstract_dist_for(req_to_install)\n",
      "  File \"C:\\Anaconda\\lib\\site-packages\\pip\\_internal\\legacy_resolve.py\", line 282, in _get_abstract_dist_for\n",
      "    abstract_dist = self.preparer.prepare_linked_requirement(req)\n",
      "  File \"C:\\Anaconda\\lib\\site-packages\\pip\\_internal\\operations\\prepare.py\", line 482, in prepare_linked_requirement\n",
      "    hashes=hashes,\n",
      "  File \"C:\\Anaconda\\lib\\site-packages\\pip\\_internal\\operations\\prepare.py\", line 287, in unpack_url\n",
      "    hashes=hashes,\n",
      "  File \"C:\\Anaconda\\lib\\site-packages\\pip\\_internal\\operations\\prepare.py\", line 159, in unpack_http_url\n",
      "    link, downloader, temp_dir.path, hashes\n",
      "  File \"C:\\Anaconda\\lib\\site-packages\\pip\\_internal\\operations\\prepare.py\", line 303, in _download_http_url\n",
      "    for chunk in download.chunks:\n",
      "  File \"C:\\Anaconda\\lib\\site-packages\\pip\\_internal\\utils\\ui.py\", line 160, in iter\n",
      "    for x in it:\n",
      "  File \"C:\\Anaconda\\lib\\site-packages\\pip\\_internal\\network\\utils.py\", line 39, in response_chunks\n",
      "    decode_content=False,\n",
      "  File \"C:\\Anaconda\\lib\\site-packages\\pip\\_vendor\\urllib3\\response.py\", line 564, in stream\n",
      "    data = self.read(amt=amt, decode_content=decode_content)\n",
      "  File \"C:\\Anaconda\\lib\\site-packages\\pip\\_vendor\\urllib3\\response.py\", line 529, in read\n",
      "    raise IncompleteRead(self._fp_bytes_read, self.length_remaining)\n",
      "  File \"C:\\Anaconda\\lib\\contextlib.py\", line 130, in __exit__\n",
      "    self.gen.throw(type, value, traceback)\n",
      "  File \"C:\\Anaconda\\lib\\site-packages\\pip\\_vendor\\urllib3\\response.py\", line 430, in _error_catcher\n",
      "    raise ReadTimeoutError(self._pool, None, \"Read timed out.\")\n",
      "pip._vendor.urllib3.exceptions.ReadTimeoutError: HTTPSConnectionPool(host='files.pythonhosted.org', port=443): Read timed out.\n"
     ]
    }
   ],
   "source": [
    "pip install --ignore-installed --upgrade jupyter\n"
   ]
  },
  {
   "cell_type": "code",
   "execution_count": 3,
   "metadata": {},
   "outputs": [
    {
     "ename": "SyntaxError",
     "evalue": "invalid syntax (<ipython-input-3-97452f124b3c>, line 1)",
     "output_type": "error",
     "traceback": [
      "\u001b[1;36m  File \u001b[1;32m\"<ipython-input-3-97452f124b3c>\"\u001b[1;36m, line \u001b[1;32m1\u001b[0m\n\u001b[1;33m    conda install ipykernel --name Python3\u001b[0m\n\u001b[1;37m                ^\u001b[0m\n\u001b[1;31mSyntaxError\u001b[0m\u001b[1;31m:\u001b[0m invalid syntax\n"
     ]
    }
   ],
   "source": [
    "conda install ipykernel --name Python3\n",
    "python -m ipykernel install"
   ]
  },
  {
   "cell_type": "code",
   "execution_count": 4,
   "metadata": {},
   "outputs": [],
   "source": [
    "import ipykernel"
   ]
  },
  {
   "cell_type": "code",
   "execution_count": 5,
   "metadata": {},
   "outputs": [
    {
     "name": "stderr",
     "output_type": "stream",
     "text": [
      "usage: ipykernel_launcher.py [-h] [-v VIDEO] [-i IMAGE] [-c CAMERA]\n",
      "                             [-o OUTPUT]\n",
      "ipykernel_launcher.py: error: unrecognized arguments: -f C:\\Users\\bhavini jain\\AppData\\Roaming\\jupyter\\runtime\\kernel-b75cb9c4-13e5-408c-b03e-f1e7bd1ecae4.json\n"
     ]
    },
    {
     "ename": "SystemExit",
     "evalue": "2",
     "output_type": "error",
     "traceback": [
      "An exception has occurred, use %tb to see the full traceback.\n",
      "\u001b[1;31mSystemExit\u001b[0m\u001b[1;31m:\u001b[0m 2\n"
     ]
    },
    {
     "name": "stderr",
     "output_type": "stream",
     "text": [
      "C:\\Anaconda\\lib\\site-packages\\IPython\\core\\interactiveshell.py:3339: UserWarning: To exit: use 'exit', 'quit', or Ctrl-D.\n",
      "  warn(\"To exit: use 'exit', 'quit', or Ctrl-D.\", stacklevel=1)\n"
     ]
    }
   ],
   "source": [
    "import cv2\n",
    "import imutils\n",
    "import numpy as np\n",
    "import argparse\n",
    "\n",
    "def detect(frame):\n",
    "    bounding_box_cordinates, weights =  HOGCV.detectMultiScale(frame, winStride = (4, 4), padding = (8, 8), scale = 1.03)\n",
    "    \n",
    "    person = 1\n",
    "    for x,y,w,h in bounding_box_cordinates:\n",
    "        cv2.rectangle(frame, (x,y), (x+w,y+h), (0,255,0), 2)\n",
    "        cv2.putText(frame, f'person {person}', (x,y), cv2.FONT_HERSHEY_SIMPLEX, 0.5, (0,0,255), 1)\n",
    "        person += 1\n",
    "    \n",
    "    cv2.putText(frame, 'Status : Detecting ', (40,40), cv2.FONT_HERSHEY_DUPLEX, 0.8, (255,0,0), 2)\n",
    "    cv2.putText(frame, f'Total Persons : {person-1}', (40,70), cv2.FONT_HERSHEY_DUPLEX, 0.8, (255,0,0), 2)\n",
    "    cv2.imshow('output', frame)\n",
    "\n",
    "    return frame\n",
    "\n",
    "def detectByPathVideo(path, writer):\n",
    "\n",
    "    video = cv2.VideoCapture(path)\n",
    "    check, frame = video.read()\n",
    "    if check == False:\n",
    "        print('Video Not Found. Please Enter a Valid Path (Full path of Video Should be Provided).')\n",
    "        return\n",
    "\n",
    "    print('Detecting people...')\n",
    "    while video.isOpened():\n",
    "        #check is True if reading was successful \n",
    "        check, frame =  video.read()\n",
    "\n",
    "        if check:\n",
    "            frame = imutils.resize(frame , width=min(800,frame.shape[1]))\n",
    "            frame = detect(frame)\n",
    "            \n",
    "            if writer is not None:\n",
    "                writer.write(frame)\n",
    "            \n",
    "            key = cv2.waitKey(1)\n",
    "            if key== ord('q'):\n",
    "                break\n",
    "        else:\n",
    "            break\n",
    "    video.release()\n",
    "    cv2.destroyAllWindows()\n",
    "\n",
    "def detectByCamera(writer):   \n",
    "    video = cv2.VideoCapture(0)\n",
    "    print('Detecting people...')\n",
    "\n",
    "    while True:\n",
    "        check, frame = video.read()\n",
    "\n",
    "        frame = detect(frame)\n",
    "        if writer is not None:\n",
    "            writer.write(frame)\n",
    "\n",
    "        key = cv2.waitKey(1)\n",
    "        if key == ord('q'):\n",
    "                break\n",
    "\n",
    "    video.release()\n",
    "    cv2.destroyAllWindows()\n",
    "\n",
    "def detectByPathImage(path, output_path):\n",
    "    image = cv2.imread(path)\n",
    "\n",
    "    image = imutils.resize(image, width = min(800, image.shape[1])) \n",
    "\n",
    "    result_image = detect(image)\n",
    "\n",
    "    if output_path is not None:\n",
    "        cv2.imwrite(output_path, result_image)\n",
    "\n",
    "    cv2.waitKey(0)\n",
    "    cv2.destroyAllWindows()\n",
    "def humanDetector(args):\n",
    "    image_path = args[\"image\"]\n",
    "    video_path = args['video']\n",
    "    if str(args[\"camera\"]) == 'true' : camera = True \n",
    "    else : camera = False\n",
    "\n",
    "    writer = None\n",
    "    if args['output'] is not None and image_path is None:\n",
    "        writer = cv2.VideoWriter(args['output'],cv2.VideoWriter_fourcc(*'MJPG'), 10, (600,600))\n",
    "\n",
    "    if camera:\n",
    "        print('[INFO] Opening Web Cam.')\n",
    "        detectByCamera(ouput_path,writer)\n",
    "    elif video_path is not None:\n",
    "        print('[INFO] Opening Video from path.')\n",
    "        detectByPathVideo(video_path, writer)\n",
    "    elif image_path is not None:\n",
    "        print('[INFO] Opening Image from path.')\n",
    "        detectByPathImage(image_path, args['output'])\n",
    "\n",
    "def argsParser():\n",
    "    arg_parse = argparse.ArgumentParser()\n",
    "    arg_parse.add_argument(\"-v\", \"--video\", default=None, help=\"path to Video File \")\n",
    "    arg_parse.add_argument(\"-i\", \"--image\", default=None, help=\"path to Image File \")\n",
    "    arg_parse.add_argument(\"-c\", \"--camera\", default=False, help=\"Set true if you want to use the camera.\")\n",
    "    arg_parse.add_argument(\"-o\", \"--output\", type=str, help=\"path to optional output video file\")\n",
    "    args = vars(arg_parse.parse_args())\n",
    "\n",
    "    return args\n",
    "\n",
    "if __name__ == \"__main__\":\n",
    "    HOGCV = cv2.HOGDescriptor()\n",
    "    HOGCV.setSVMDetector(cv2.HOGDescriptor_getDefaultPeopleDetector())\n",
    "\n",
    "    args = argsParser()\n",
    "    humanDetector(args)\n"
   ]
  },
  {
   "cell_type": "code",
   "execution_count": 13,
   "metadata": {},
   "outputs": [
    {
     "name": "stdout",
     "output_type": "stream",
     "text": [
      "Collecting easygui\n",
      "  Downloading easygui-0.98.2-py2.py3-none-any.whl (92 kB)\n",
      "Installing collected packages: easygui\n",
      "Successfully installed easygui-0.98.2\n",
      "Note: you may need to restart the kernel to use updated packages.\n"
     ]
    }
   ],
   "source": [
    "pip install easygui"
   ]
  },
  {
   "cell_type": "code",
   "execution_count": 15,
   "metadata": {},
   "outputs": [
    {
     "ename": "SyntaxError",
     "evalue": "invalid syntax (<ipython-input-15-1ae0641f4999>, line 1)",
     "output_type": "error",
     "traceback": [
      "\u001b[1;36m  File \u001b[1;32m\"<ipython-input-15-1ae0641f4999>\"\u001b[1;36m, line \u001b[1;32m1\u001b[0m\n\u001b[1;33m    sudo apt-get install python3-easygui\u001b[0m\n\u001b[1;37m           ^\u001b[0m\n\u001b[1;31mSyntaxError\u001b[0m\u001b[1;31m:\u001b[0m invalid syntax\n"
     ]
    }
   ],
   "source": [
    "sudo apt-get install python3-easygui"
   ]
  },
  {
   "cell_type": "code",
   "execution_count": null,
   "metadata": {},
   "outputs": [],
   "source": [
    "#                                   Image Cartooning\n",
    "\n",
    "\n",
    "import cv2 #for image processing\n",
    "import easygui #to open the filebox\n",
    "import numpy as np #to store image\n",
    "import imageio #to read image stored at particular path\n",
    "\n",
    "import sys\n",
    "import matplotlib.pyplot as plt\n",
    "import os\n",
    "import tkinter as tk\n",
    "from tkinter import filedialog\n",
    "from tkinter import *\n",
    "from PIL import ImageTk, Image\n",
    "\n",
    "top=tk.Tk()\n",
    "top.geometry('400x400')\n",
    "top.title('Cartoonify Your Image !')\n",
    "top.configure(background='white')\n",
    "label=Label(top,background='#CDCDCD', font=('calibri',20,'bold'))\n",
    "\n",
    "def upload():\n",
    "    ImagePath=easygui.fileopenbox()\n",
    "    cartoonify(ImagePath)\n",
    "\n",
    "\n",
    "def cartoonify(ImagePath):\n",
    "    # read the image\n",
    "    originalmage = cv2.imread(ImagePath)\n",
    "    originalmage = cv2.cvtColor(originalmage, cv2.COLOR_BGR2RGB)\n",
    "    #print(image)  # image is stored in form of numbers\n",
    "\n",
    "    # confirm that image is chosen\n",
    "    if originalmage is None:\n",
    "        print(\"Can not find any image. Choose appropriate file\")\n",
    "        sys.exit()\n",
    "\n",
    "    ReSized1 = cv2.resize(originalmage, (960, 540))\n",
    "    #plt.imshow(ReSized1, cmap='gray')\n",
    "\n",
    "\n",
    "    #converting an image to grayscale\n",
    "    grayScaleImage= cv2.cvtColor(originalmage, cv2.COLOR_BGR2GRAY)\n",
    "    ReSized2 = cv2.resize(grayScaleImage, (960, 540))\n",
    "    #plt.imshow(ReSized2, cmap='gray')\n",
    "\n",
    "\n",
    "    #applying median blur to smoothen an image\n",
    "    smoothGrayScale = cv2.medianBlur(grayScaleImage, 5)\n",
    "    ReSized3 = cv2.resize(smoothGrayScale, (960, 540))\n",
    "    #plt.imshow(ReSized3, cmap='gray')\n",
    "\n",
    "    #retrieving the edges for cartoon effect\n",
    "    #by using thresholding technique\n",
    "    getEdge = cv2.adaptiveThreshold(smoothGrayScale, 255, \n",
    "        cv2.ADAPTIVE_THRESH_MEAN_C, \n",
    "        cv2.THRESH_BINARY, 9, 9)\n",
    "\n",
    "    ReSized4 = cv2.resize(getEdge, (960, 540))\n",
    "    #plt.imshow(ReSized4, cmap='gray')\n",
    "\n",
    "    #applying bilateral filter to remove noise \n",
    "    #and keep edge sharp as required\n",
    "    colorImage = cv2.bilateralFilter(originalmage, 9, 300, 300)\n",
    "    ReSized5 = cv2.resize(colorImage, (960, 540))\n",
    "    #plt.imshow(ReSized5, cmap='gray')\n",
    "\n",
    "\n",
    "    #masking edged image with our \"BEAUTIFY\" image\n",
    "    cartoonImage = cv2.bitwise_and(colorImage, colorImage, mask=getEdge)\n",
    "\n",
    "    ReSized6 = cv2.resize(cartoonImage, (960, 540))\n",
    "    #plt.imshow(ReSized6, cmap='gray')\n",
    "\n",
    "    # Plotting the whole transition\n",
    "    images=[ReSized1, ReSized2, ReSized3, ReSized4, ReSized5, ReSized6]\n",
    "\n",
    "    fig, axes = plt.subplots(3,2, figsize=(8,8), subplot_kw={'xticks':[], 'yticks':[]}, gridspec_kw=dict(hspace=0.1, wspace=0.1))\n",
    "    for i, ax in enumerate(axes.flat):\n",
    "        ax.imshow(images[i], cmap='gray')\n",
    "\n",
    "    save1=Button(top,text=\"Save cartoon image\",command=lambda: save(ReSized6, ImagePath),padx=30,pady=5)\n",
    "    save1.configure(background='#364156', foreground='white',font=('calibri',10,'bold'))\n",
    "    save1.pack(side=TOP,pady=50)\n",
    "    \n",
    "    plt.show()\n",
    "    \n",
    "    \n",
    "def save(ReSized6, ImagePath):\n",
    "    #saving an image using imwrite()\n",
    "    newName=\"cartoonified_Image\"\n",
    "    path1 = os.path.dirname(ImagePath)\n",
    "    extension=os.path.splitext(ImagePath)[1]\n",
    "    path = os.path.join(path1, newName+extension)\n",
    "    cv2.imwrite(path, cv2.cvtColor(ReSized6, cv2.COLOR_RGB2BGR))\n",
    "    I= \"Image saved by name \" + newName +\" at \"+ path\n",
    "    tk.messagebox.showinfo(title=None, message=I)\n",
    "\n",
    "upload=Button(top,text=\"Cartoonify an Image\",command=upload,padx=10,pady=5)\n",
    "upload.configure(background='#364156', foreground='white',font=('calibri',10,'bold'))\n",
    "upload.pack(side=TOP,pady=50)\n",
    "\n",
    "top.mainloop()\n",
    "\n",
    "\n",
    "\n"
   ]
  },
  {
   "cell_type": "code",
   "execution_count": null,
   "metadata": {},
   "outputs": [],
   "source": []
  }
 ],
 "metadata": {
  "kernelspec": {
   "display_name": "Python 3",
   "language": "python",
   "name": "python3"
  },
  "language_info": {
   "codemirror_mode": {
    "name": "ipython",
    "version": 3
   },
   "file_extension": ".py",
   "mimetype": "text/x-python",
   "name": "python",
   "nbconvert_exporter": "python",
   "pygments_lexer": "ipython3",
   "version": "3.7.6"
  }
 },
 "nbformat": 4,
 "nbformat_minor": 4
}
